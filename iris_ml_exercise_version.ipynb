{
 "cells": [
  {
   "cell_type": "markdown",
   "metadata": {},
   "source": [
    "# Simple Classification Machine Learning Example\n",
    "With the vast amount of data at our disposal we are all looking for ways to use it to our advantage. In the recent years, machine learning algorithms have taken us by storm and are becoming household items in fields ranging from medicine, speech recognition and video games, to name a few. Even though it may sound daunting at first, getting actionable insights from data with the help of machine learning doesn’t have to be on par with developing rockets or baking the perfect soufflé.\n",
    "\n",
    "In this workshop we will explore ways to utilize machine learning in a simple way without needing any prior knowledge of the field or what is happening behind the scenes.  \n",
    "\n",
    "Tho, some requirenments are needed. You will need to have a working jupyter notebook environment as well as the following pip packages: \n",
    "    - pandas\n",
    "    - matplotlib\n",
    "    - scikit-learn \n",
    "I would recommend using Visual Studio Code. Once, this is all set up you are ready to go. \n",
    "\n",
    "## Data Gathering: A Classic - The Iris Dataset\n",
    "For this tutorial we are gonna use the Iris Dataset. This is a very common dataset used to learn the important concepts of ML classification. The dataset holds data about three different iris species including some properties of each flower. \n",
    "Source: https://www.kaggle.com/datasets/uciml/iris "
   ]
  },
  {
   "cell_type": "code",
   "execution_count": 95,
   "metadata": {},
   "outputs": [
    {
     "data": {
      "text/html": [
       "<div>\n",
       "<style scoped>\n",
       "    .dataframe tbody tr th:only-of-type {\n",
       "        vertical-align: middle;\n",
       "    }\n",
       "\n",
       "    .dataframe tbody tr th {\n",
       "        vertical-align: top;\n",
       "    }\n",
       "\n",
       "    .dataframe thead th {\n",
       "        text-align: right;\n",
       "    }\n",
       "</style>\n",
       "<table border=\"1\" class=\"dataframe\">\n",
       "  <thead>\n",
       "    <tr style=\"text-align: right;\">\n",
       "      <th></th>\n",
       "      <th>Id</th>\n",
       "      <th>SepalLengthCm</th>\n",
       "      <th>SepalWidthCm</th>\n",
       "      <th>PetalLengthCm</th>\n",
       "      <th>PetalWidthCm</th>\n",
       "      <th>Species</th>\n",
       "    </tr>\n",
       "  </thead>\n",
       "  <tbody>\n",
       "    <tr>\n",
       "      <th>0</th>\n",
       "      <td>1</td>\n",
       "      <td>5.1</td>\n",
       "      <td>3.5</td>\n",
       "      <td>1.4</td>\n",
       "      <td>0.2</td>\n",
       "      <td>Iris-setosa</td>\n",
       "    </tr>\n",
       "    <tr>\n",
       "      <th>1</th>\n",
       "      <td>2</td>\n",
       "      <td>4.9</td>\n",
       "      <td>3.0</td>\n",
       "      <td>1.4</td>\n",
       "      <td>0.2</td>\n",
       "      <td>Iris-setosa</td>\n",
       "    </tr>\n",
       "    <tr>\n",
       "      <th>2</th>\n",
       "      <td>3</td>\n",
       "      <td>4.7</td>\n",
       "      <td>3.2</td>\n",
       "      <td>1.3</td>\n",
       "      <td>0.2</td>\n",
       "      <td>Iris-setosa</td>\n",
       "    </tr>\n",
       "    <tr>\n",
       "      <th>3</th>\n",
       "      <td>4</td>\n",
       "      <td>4.6</td>\n",
       "      <td>3.1</td>\n",
       "      <td>1.5</td>\n",
       "      <td>0.2</td>\n",
       "      <td>Iris-setosa</td>\n",
       "    </tr>\n",
       "    <tr>\n",
       "      <th>4</th>\n",
       "      <td>5</td>\n",
       "      <td>5.0</td>\n",
       "      <td>3.6</td>\n",
       "      <td>1.4</td>\n",
       "      <td>0.2</td>\n",
       "      <td>Iris-setosa</td>\n",
       "    </tr>\n",
       "  </tbody>\n",
       "</table>\n",
       "</div>"
      ],
      "text/plain": [
       "   Id  SepalLengthCm  SepalWidthCm  PetalLengthCm  PetalWidthCm      Species\n",
       "0   1            5.1           3.5            1.4           0.2  Iris-setosa\n",
       "1   2            4.9           3.0            1.4           0.2  Iris-setosa\n",
       "2   3            4.7           3.2            1.3           0.2  Iris-setosa\n",
       "3   4            4.6           3.1            1.5           0.2  Iris-setosa\n",
       "4   5            5.0           3.6            1.4           0.2  Iris-setosa"
      ]
     },
     "execution_count": 95,
     "metadata": {},
     "output_type": "execute_result"
    }
   ],
   "source": [
    "# importing pandas for data preprocession and csv handling\n",
    "import pandas as pd\n",
    "\n",
    "# Note we will use the following acronyms in our variables: \n",
    "# df = data frame - commonly used for pandas data frames \n",
    "\n",
    "# loading our iris dataset into a pandas dataframe\n",
    "iris_df = pd.read_csv(\"https://raw.githubusercontent.com/ccpjulia/nsm2022-ml-workshop/main/data/iris_data.csv\")\n",
    "\n",
    "# printing out the the first 5 rows of our data and have a look \n",
    "iris_df.head()"
   ]
  },
  {
   "cell_type": "code",
   "execution_count": 80,
   "metadata": {},
   "outputs": [
    {
     "data": {
      "text/plain": [
       "(150, 6)"
      ]
     },
     "execution_count": 80,
     "metadata": {},
     "output_type": "execute_result"
    }
   ],
   "source": [
    "# print the shape of the df (rows, columns)\n",
    "iris_df.shape"
   ]
  },
  {
   "cell_type": "markdown",
   "metadata": {},
   "source": [
    "### _Exercise 1: Explore Data_\n",
    "In this exercise you can start exploring the data. To get you started you can use the following methods: \n",
    "- ``info``\n",
    "- ``value_counts``\n",
    "- ``describe``\n",
    "\n",
    "I would also recommend having a look at the pandas documentation: https://pandas.pydata.org/docs/reference/index.html "
   ]
  },
  {
   "cell_type": "code",
   "execution_count": 81,
   "metadata": {},
   "outputs": [
    {
     "name": "stdout",
     "output_type": "stream",
     "text": [
      "Excercise 1\n"
     ]
    }
   ],
   "source": [
    "# Excercise 1: Put your code here \n",
    "print(f'Excercise 1')"
   ]
  },
  {
   "cell_type": "code",
   "execution_count": 96,
   "metadata": {},
   "outputs": [
    {
     "name": "stdout",
     "output_type": "stream",
     "text": [
      "<class 'pandas.core.frame.DataFrame'>\n",
      "RangeIndex: 150 entries, 0 to 149\n",
      "Data columns (total 6 columns):\n",
      " #   Column         Non-Null Count  Dtype   \n",
      "---  ------         --------------  -----   \n",
      " 0   Id             150 non-null    int64   \n",
      " 1   SepalLengthCm  150 non-null    float64 \n",
      " 2   SepalWidthCm   150 non-null    float64 \n",
      " 3   PetalLengthCm  150 non-null    float64 \n",
      " 4   PetalWidthCm   150 non-null    float64 \n",
      " 5   Species        150 non-null    category\n",
      "dtypes: category(1), float64(4), int64(1)\n",
      "memory usage: 6.3 KB\n"
     ]
    }
   ],
   "source": [
    "# Once done with Excercise 1 continue here \n",
    "\n",
    "# changing the data type of species to category\n",
    "iris_df[\"Species\"] = iris_df.Species.astype(\"category\")\n",
    "iris_df.info()"
   ]
  },
  {
   "cell_type": "code",
   "execution_count": 97,
   "metadata": {},
   "outputs": [
    {
     "data": {
      "image/png": "[encoded data removed]",
      "text/plain": [
       "<Figure size 432x288 with 1 Axes>"
      ]
     },
     "metadata": {
      "needs_background": "light"
     },
     "output_type": "display_data"
    }
   ],
   "source": [
    "import matplotlib.pyplot as plt \n",
    "\n",
    "fig, ax = plt.subplots()\n",
    "\n",
    "# creating subplots per species \n",
    "for cat in iris_df['Species'].cat.categories: \n",
    "    ax.scatter(x=iris_df['SepalLengthCm'][iris_df.Species==cat], y=iris_df['SepalWidthCm'][iris_df.Species==cat], label=cat)\n",
    "\n",
    "# adding labels and legend\n",
    "plt.xlabel('SepalLengthCm')\n",
    "plt.ylabel('SepalWidthCm')\n",
    "plt.legend()\n",
    "# plotting SepalLengthCm vs SepalWidthCm as scatterplot per species \n",
    "plt.show()\n"
   ]
  },
  {
   "cell_type": "markdown",
   "metadata": {},
   "source": [
    "### _Exercise 2: Plot Data_\n",
    "In this second excercise plot the data again, but this time use _PetalLengthCm_ and _PetalWidthCm_. \n",
    "\n",
    "I would also recommend having a look at the matplotlib documentation: https://matplotlib.org/devdocs/api/index.html "
   ]
  },
  {
   "cell_type": "code",
   "execution_count": 84,
   "metadata": {},
   "outputs": [
    {
     "name": "stdout",
     "output_type": "stream",
     "text": [
      "Excercise 2\n"
     ]
    }
   ],
   "source": [
    "# Excercise 2: Put your code here \n",
    "print(f'Excercise 2')"
   ]
  },
  {
   "cell_type": "markdown",
   "metadata": {},
   "source": [
    "## Data Pre-Processing\n",
    "In this step you would do all data pre-processing necassary. That can include a wide range of things ranging from feature selection to feature engineering. In our case we only want to drop the ``Id`` column as it is not an actual property of the flowers. Further, we will split our whole dataset into a training and test dataset. The training dataset will be used to train our model and the test dataset will be used in the evaluation of the performance of our model. "
   ]
  },
  {
   "cell_type": "code",
   "execution_count": 98,
   "metadata": {},
   "outputs": [
    {
     "data": {
      "text/plain": [
       "Index(['Id', 'SepalLengthCm', 'SepalWidthCm', 'PetalLengthCm', 'PetalWidthCm',\n",
       "       'Species'],\n",
       "      dtype='object')"
      ]
     },
     "execution_count": 98,
     "metadata": {},
     "output_type": "execute_result"
    }
   ],
   "source": [
    "# remember our current columns \n",
    "iris_df.columns"
   ]
  },
  {
   "cell_type": "code",
   "execution_count": 99,
   "metadata": {},
   "outputs": [
    {
     "data": {
      "text/plain": [
       "Index(['SepalLengthCm', 'SepalWidthCm', 'PetalLengthCm', 'PetalWidthCm',\n",
       "       'Species'],\n",
       "      dtype='object')"
      ]
     },
     "execution_count": 99,
     "metadata": {},
     "output_type": "execute_result"
    }
   ],
   "source": [
    "# now dropping the id column as that is not an actual property of the class\n",
    "iris_df = iris_df.drop(columns='Id')\n",
    "iris_df.columns"
   ]
  },
  {
   "cell_type": "code",
   "execution_count": 100,
   "metadata": {},
   "outputs": [
    {
     "name": "stdout",
     "output_type": "stream",
     "text": [
      "train shape=(105, 5) and test shape=(45, 5)\n"
     ]
    }
   ],
   "source": [
    "# import sklearns capability to split the dataset into train and test\n",
    "from sklearn.model_selection import train_test_split\n",
    "\n",
    "# splitting the iris dataset into train (70%) and test (30%)\n",
    "train_df, test_df = train_test_split(iris_df, test_size=0.3)\n",
    "print(f'train shape={train_df.shape} and test shape={test_df.shape}')"
   ]
  },
  {
   "cell_type": "code",
   "execution_count": 101,
   "metadata": {},
   "outputs": [
    {
     "name": "stdout",
     "output_type": "stream",
     "text": [
      "train df features: (105, 4)\n",
      "     SepalLengthCm  SepalWidthCm  PetalLengthCm  PetalWidthCm\n",
      "103            6.3           2.9            5.6           1.8\n",
      "41             4.5           2.3            1.3           0.3\n",
      "\n",
      "train df labels: (105,)\n",
      "103    Iris-virginica\n",
      "41        Iris-setosa\n",
      "Name: Species, dtype: category\n",
      "Categories (3, object): ['Iris-setosa', 'Iris-versicolor', 'Iris-virginica']\n",
      "\n",
      "test df features: (45, 4)\n",
      "     SepalLengthCm  SepalWidthCm  PetalLengthCm  PetalWidthCm\n",
      "137            6.4           3.1            5.5           1.8\n",
      "69             5.6           2.5            3.9           1.1\n",
      "\n",
      "test df labels: (45,)\n",
      "137     Iris-virginica\n",
      "69     Iris-versicolor\n",
      "Name: Species, dtype: category\n",
      "Categories (3, object): ['Iris-setosa', 'Iris-versicolor', 'Iris-virginica']\n"
     ]
    }
   ],
   "source": [
    "# seperate features from labels for the train and test dataset \n",
    "train_df_features = train_df.drop(columns='Species')\n",
    "train_df_labels = train_df.Species\n",
    "print(f'train df features: {train_df_features.shape}')\n",
    "print(train_df_features.head(2))\n",
    "print(f'\\ntrain df labels: {train_df_labels.shape}')\n",
    "print(train_df_labels.head(2))\n",
    "\n",
    "# seperate features from labels for the train and test dataset \n",
    "test_df_features = test_df.drop(columns='Species')\n",
    "test_df_labels = test_df.Species\n",
    "print(f'\\ntest df features: {test_df_features.shape}')\n",
    "print(test_df_features.head(2))\n",
    "print(f'\\ntest df labels: {test_df_labels.shape}')\n",
    "print(test_df_labels.head(2))"
   ]
  },
  {
   "cell_type": "markdown",
   "metadata": {},
   "source": [
    "## Model Training and Evaluation \n",
    "In the model training step we finally train a machine learning model. Yay! Deciding on which algorithm to use can be sometimes a little tricky and usually you go through iterations and try different ones. In the following we will train three different models and compare them: LogisitcRegression, a DecisionTrer an K-Nearest Neighbour. \n",
    "The steps are the same fore all models: \n",
    "1. Train the model with the training dataset using the ``.fit()``-method \n",
    "2. [Optional] Predict the outcome of the trained model with the test dataset using the ``.predict()``-method \n",
    "3. Evaluate the performance of the model by comparing the predicted outcome with the actual outcome \n",
    "\n",
    "Note: we will use accuracy as the evaluation metric. However, there are many different metrics you can evalute a model against and might be better suited for the problem at hand. \n",
    "\n",
    "### Logistic Regression\n",
    "In logistic regression the probabilities of class membership are modeled using a logistic function. \n",
    "More Info can be found here: https://scikit-learn.org/stable/modules/linear_model.html#logistic-regression "
   ]
  },
  {
   "cell_type": "code",
   "execution_count": 89,
   "metadata": {},
   "outputs": [
    {
     "name": "stdout",
     "output_type": "stream",
     "text": [
      "Logistic Regression Accuracy: 1.0\n"
     ]
    }
   ],
   "source": [
    "# importing logistic regression from sklearn \n",
    "from sklearn.linear_model import LogisticRegression\n",
    "\n",
    "# Note we will use the following acronyms in our variables: \n",
    "# clf = classifier\n",
    "# lr = logisitc regression \n",
    "# dt = decision tree \n",
    "# knn = k-nearest neighbour\n",
    "# pred = prediction \n",
    "\n",
    "# creating a logistic regression model \n",
    "clf_lr = LogisticRegression(max_iter=200)\n",
    "# training the model on our train dataset \n",
    "clf_lr.fit(train_df_features, train_df_labels)\n",
    "# printing out the mean accuracy score\n",
    "print(f'Logistic Regression Accuracy: {clf_lr.score(test_df_features, test_df_labels)}')"
   ]
  },
  {
   "cell_type": "code",
   "execution_count": 90,
   "metadata": {},
   "outputs": [
    {
     "data": {
      "text/html": [
       "<div>\n",
       "<style scoped>\n",
       "    .dataframe tbody tr th:only-of-type {\n",
       "        vertical-align: middle;\n",
       "    }\n",
       "\n",
       "    .dataframe tbody tr th {\n",
       "        vertical-align: top;\n",
       "    }\n",
       "\n",
       "    .dataframe thead th {\n",
       "        text-align: right;\n",
       "    }\n",
       "</style>\n",
       "<table border=\"1\" class=\"dataframe\">\n",
       "  <thead>\n",
       "    <tr style=\"text-align: right;\">\n",
       "      <th></th>\n",
       "      <th>Iris-setosa</th>\n",
       "      <th>Iris-versicolor</th>\n",
       "      <th>Iris-virginica</th>\n",
       "      <th>prediction</th>\n",
       "    </tr>\n",
       "  </thead>\n",
       "  <tbody>\n",
       "    <tr>\n",
       "      <th>0</th>\n",
       "      <td>0.00</td>\n",
       "      <td>0.17</td>\n",
       "      <td>0.83</td>\n",
       "      <td>Iris-virginica</td>\n",
       "    </tr>\n",
       "    <tr>\n",
       "      <th>1</th>\n",
       "      <td>0.00</td>\n",
       "      <td>0.29</td>\n",
       "      <td>0.71</td>\n",
       "      <td>Iris-virginica</td>\n",
       "    </tr>\n",
       "    <tr>\n",
       "      <th>2</th>\n",
       "      <td>0.00</td>\n",
       "      <td>0.18</td>\n",
       "      <td>0.82</td>\n",
       "      <td>Iris-virginica</td>\n",
       "    </tr>\n",
       "    <tr>\n",
       "      <th>3</th>\n",
       "      <td>0.96</td>\n",
       "      <td>0.04</td>\n",
       "      <td>0.00</td>\n",
       "      <td>Iris-setosa</td>\n",
       "    </tr>\n",
       "    <tr>\n",
       "      <th>4</th>\n",
       "      <td>0.98</td>\n",
       "      <td>0.02</td>\n",
       "      <td>0.00</td>\n",
       "      <td>Iris-setosa</td>\n",
       "    </tr>\n",
       "  </tbody>\n",
       "</table>\n",
       "</div>"
      ],
      "text/plain": [
       "  Iris-setosa Iris-versicolor Iris-virginica      prediction\n",
       "0        0.00            0.17           0.83  Iris-virginica\n",
       "1        0.00            0.29           0.71  Iris-virginica\n",
       "2        0.00            0.18           0.82  Iris-virginica\n",
       "3        0.96            0.04           0.00     Iris-setosa\n",
       "4        0.98            0.02           0.00     Iris-setosa"
      ]
     },
     "execution_count": 90,
     "metadata": {},
     "output_type": "execute_result"
    }
   ],
   "source": [
    "# some classification models in sklearn can also return the probability of the class prediction \n",
    "pred_lr_probabilities = clf_lr.predict_proba(test_df_features)\n",
    "pred_lr_probabilities_df = pd.DataFrame(pred_lr_probabilities, columns=iris_df['Species'].cat.categories).applymap(\"{0:.2f}\".format)\n",
    "pred_lr_probabilities_df.assign(prediction=clf_lr.predict(test_df_features)).head()"
   ]
  },
  {
   "cell_type": "markdown",
   "metadata": {},
   "source": [
    "### _Exercise 3: Decision Tree_\n",
    "In a decision tree classification classification trees are created to determine class membership.\n",
    "\n",
    "Now, let's train a decision tree model! \n",
    "\n",
    "I would also recommend having a look at the scikit-learn documentation: https://scikit-learn.org/stable/modules/generated/sklearn.tree.DecisionTreeClassifier.html#sklearn.tree.DecisionTreeClassifier and more info can be found here: https://en.wikipedia.org/wiki/Decision_tree_learning "
   ]
  },
  {
   "cell_type": "code",
   "execution_count": 91,
   "metadata": {},
   "outputs": [
    {
     "name": "stdout",
     "output_type": "stream",
     "text": [
      "Excercise 3\n"
     ]
    }
   ],
   "source": [
    "# importing decision tree classifier from sklearn \n",
    "from sklearn.tree import DecisionTreeClassifier\n",
    "\n",
    "# Excercise 3: Put your code here and print out the accuracy\n",
    "print(f'Excercise 3')"
   ]
  },
  {
   "cell_type": "markdown",
   "metadata": {},
   "source": [
    "### _Exercise 4: K-Nearest Neighbour_\n",
    "In the k-nearest neighbour algorithm the class is identified by the most commmon class of its k-nearest neighbours.  \n",
    "\n",
    "Now, let's train a k-nearest neighbour model! \n",
    "\n",
    "I would also recommend having a look at the scikit-learn documentation: https://scikit-learn.org/stable/modules/generated/sklearn.neighbors.KNeighborsClassifier.html#sklearn.neighbors.KNeighborsClassifier and more info on the algorithm itself can be found here: https://en.wikipedia.org/wiki/K-nearest_neighbors_algorithm"
   ]
  },
  {
   "cell_type": "code",
   "execution_count": 92,
   "metadata": {},
   "outputs": [
    {
     "name": "stdout",
     "output_type": "stream",
     "text": [
      "Excercise 4\n"
     ]
    }
   ],
   "source": [
    "# importing nearest neighbour classifier from sklearn \n",
    "from sklearn.neighbors import KNeighborsClassifier\n",
    "\n",
    "# Excercise 4: Put your code here and print out the accuracy\n",
    "print(f'Excercise 4')"
   ]
  },
  {
   "cell_type": "markdown",
   "metadata": {},
   "source": [
    "## Model Inference \n",
    "Once we selected our best performing model based on the metric we chose we can now use it to predict outcomes on new unlabelled data. That means we are gonna take the trained model and use the ``.predict()``-method to get the predictions. \n",
    "\n",
    "As we don't have any new data in this example - so let's just shuffle the original iris dataset and use that. "
   ]
  },
  {
   "cell_type": "code",
   "execution_count": 93,
   "metadata": {},
   "outputs": [
    {
     "data": {
      "text/html": [
       "<div>\n",
       "<style scoped>\n",
       "    .dataframe tbody tr th:only-of-type {\n",
       "        vertical-align: middle;\n",
       "    }\n",
       "\n",
       "    .dataframe tbody tr th {\n",
       "        vertical-align: top;\n",
       "    }\n",
       "\n",
       "    .dataframe thead th {\n",
       "        text-align: right;\n",
       "    }\n",
       "</style>\n",
       "<table border=\"1\" class=\"dataframe\">\n",
       "  <thead>\n",
       "    <tr style=\"text-align: right;\">\n",
       "      <th></th>\n",
       "      <th>SepalLengthCm</th>\n",
       "      <th>SepalWidthCm</th>\n",
       "      <th>PetalLengthCm</th>\n",
       "      <th>PetalWidthCm</th>\n",
       "      <th>Species</th>\n",
       "      <th>prediction</th>\n",
       "    </tr>\n",
       "  </thead>\n",
       "  <tbody>\n",
       "    <tr>\n",
       "      <th>30</th>\n",
       "      <td>4.8</td>\n",
       "      <td>3.1</td>\n",
       "      <td>1.6</td>\n",
       "      <td>0.2</td>\n",
       "      <td>Iris-setosa</td>\n",
       "      <td>Iris-setosa</td>\n",
       "    </tr>\n",
       "    <tr>\n",
       "      <th>38</th>\n",
       "      <td>4.4</td>\n",
       "      <td>3.0</td>\n",
       "      <td>1.3</td>\n",
       "      <td>0.2</td>\n",
       "      <td>Iris-setosa</td>\n",
       "      <td>Iris-setosa</td>\n",
       "    </tr>\n",
       "    <tr>\n",
       "      <th>65</th>\n",
       "      <td>6.7</td>\n",
       "      <td>3.1</td>\n",
       "      <td>4.4</td>\n",
       "      <td>1.4</td>\n",
       "      <td>Iris-versicolor</td>\n",
       "      <td>Iris-versicolor</td>\n",
       "    </tr>\n",
       "    <tr>\n",
       "      <th>57</th>\n",
       "      <td>4.9</td>\n",
       "      <td>2.4</td>\n",
       "      <td>3.3</td>\n",
       "      <td>1.0</td>\n",
       "      <td>Iris-versicolor</td>\n",
       "      <td>Iris-versicolor</td>\n",
       "    </tr>\n",
       "    <tr>\n",
       "      <th>63</th>\n",
       "      <td>6.1</td>\n",
       "      <td>2.9</td>\n",
       "      <td>4.7</td>\n",
       "      <td>1.4</td>\n",
       "      <td>Iris-versicolor</td>\n",
       "      <td>Iris-versicolor</td>\n",
       "    </tr>\n",
       "    <tr>\n",
       "      <th>55</th>\n",
       "      <td>5.7</td>\n",
       "      <td>2.8</td>\n",
       "      <td>4.5</td>\n",
       "      <td>1.3</td>\n",
       "      <td>Iris-versicolor</td>\n",
       "      <td>Iris-versicolor</td>\n",
       "    </tr>\n",
       "    <tr>\n",
       "      <th>37</th>\n",
       "      <td>4.9</td>\n",
       "      <td>3.1</td>\n",
       "      <td>1.5</td>\n",
       "      <td>0.1</td>\n",
       "      <td>Iris-setosa</td>\n",
       "      <td>Iris-setosa</td>\n",
       "    </tr>\n",
       "    <tr>\n",
       "      <th>91</th>\n",
       "      <td>6.1</td>\n",
       "      <td>3.0</td>\n",
       "      <td>4.6</td>\n",
       "      <td>1.4</td>\n",
       "      <td>Iris-versicolor</td>\n",
       "      <td>Iris-versicolor</td>\n",
       "    </tr>\n",
       "    <tr>\n",
       "      <th>14</th>\n",
       "      <td>5.8</td>\n",
       "      <td>4.0</td>\n",
       "      <td>1.2</td>\n",
       "      <td>0.2</td>\n",
       "      <td>Iris-setosa</td>\n",
       "      <td>Iris-setosa</td>\n",
       "    </tr>\n",
       "    <tr>\n",
       "      <th>84</th>\n",
       "      <td>5.4</td>\n",
       "      <td>3.0</td>\n",
       "      <td>4.5</td>\n",
       "      <td>1.5</td>\n",
       "      <td>Iris-versicolor</td>\n",
       "      <td>Iris-versicolor</td>\n",
       "    </tr>\n",
       "  </tbody>\n",
       "</table>\n",
       "</div>"
      ],
      "text/plain": [
       "    SepalLengthCm  SepalWidthCm  PetalLengthCm  PetalWidthCm          Species  \\\n",
       "30            4.8           3.1            1.6           0.2      Iris-setosa   \n",
       "38            4.4           3.0            1.3           0.2      Iris-setosa   \n",
       "65            6.7           3.1            4.4           1.4  Iris-versicolor   \n",
       "57            4.9           2.4            3.3           1.0  Iris-versicolor   \n",
       "63            6.1           2.9            4.7           1.4  Iris-versicolor   \n",
       "55            5.7           2.8            4.5           1.3  Iris-versicolor   \n",
       "37            4.9           3.1            1.5           0.1      Iris-setosa   \n",
       "91            6.1           3.0            4.6           1.4  Iris-versicolor   \n",
       "14            5.8           4.0            1.2           0.2      Iris-setosa   \n",
       "84            5.4           3.0            4.5           1.5  Iris-versicolor   \n",
       "\n",
       "         prediction  \n",
       "30      Iris-setosa  \n",
       "38      Iris-setosa  \n",
       "65  Iris-versicolor  \n",
       "57  Iris-versicolor  \n",
       "63  Iris-versicolor  \n",
       "55  Iris-versicolor  \n",
       "37      Iris-setosa  \n",
       "91  Iris-versicolor  \n",
       "14      Iris-setosa  \n",
       "84  Iris-versicolor  "
      ]
     },
     "execution_count": 93,
     "metadata": {},
     "output_type": "execute_result"
    }
   ],
   "source": [
    "shuffled_iris_df = iris_df.sample(frac=1)\n",
    "inference = clf_lr.predict(shuffled_iris_df.drop(['Species'], axis=1))\n",
    "shuffled_iris_df.assign(prediction=inference).head(10)"
   ]
  },
  {
   "cell_type": "markdown",
   "metadata": {},
   "source": [
    "### _Exercise 5: Model Inference for K-Nearest Neighbour_\n",
    "In this final exercise use the k-nearest neighbour model you trained in Exercise 4 to predict their labels. "
   ]
  },
  {
   "cell_type": "code",
   "execution_count": 94,
   "metadata": {},
   "outputs": [
    {
     "name": "stdout",
     "output_type": "stream",
     "text": [
      "Excercise 5\n"
     ]
    }
   ],
   "source": [
    "# Excercise 5: Put your code here and print out the accuracy\n",
    "print(f'Excercise 5')"
   ]
  }
 ],
 "metadata": {
  "kernelspec": {
   "display_name": "Python 3.10.2 64-bit",
   "language": "python",
   "name": "python3"
  },
  "language_info": {
   "codemirror_mode": {
    "name": "ipython",
    "version": 3
   },
   "file_extension": ".py",
   "mimetype": "text/x-python",
   "name": "python",
   "nbconvert_exporter": "python",
   "pygments_lexer": "ipython3",
   "version": "3.10.2"
  },
  "orig_nbformat": 4,
  "vscode": {
   "interpreter": {
    "hash": "0fc7f0093da0f2eef5f58cf6dd4ba1059067f3d5f3bb10588778bad08c33fb55"
   }
  }
 },
 "nbformat": 4,
 "nbformat_minor": 2
}
