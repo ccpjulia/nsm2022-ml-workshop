{
 "cells": [
  {
   "cell_type": "markdown",
   "metadata": {},
   "source": [
    "# Simple Classification Machine Learning Example\n",
    "With the vast amount of data at our disposal we are all looking for ways to use it to our advantage. In the recent years, machine learning algorithms have taken us by storm and are becoming household items in fields ranging from medicine, speech recognition and video games, to name a few. Even though it may sound daunting at first, getting actionable insights from data with the help of machine learning doesn’t have to be on par with developing rockets or baking the perfect soufflé.\n",
    "\n",
    "In this workshop we will explore ways to utilize machine learning in a simple way without needing any prior knowledge of the field or what is happening behind the scenes.  \n",
    "\n",
    "Tho, some requirenments are needed. You will need to have a working jupyter notebook environment as well as the following pip packages: \n",
    "    - pandas\n",
    "    - matplotlib\n",
    "    - scikit-learn \n",
    "I would recommend using Visual Studio Code. Once, this is all set up you are ready to go. \n",
    "\n",
    "## Data Gathering: A Classic - The Iris Dataset\n",
    "For this tutorial we are gonna use the Iris Dataset. This is a very common dataset used to learn the important concepts of ML classification. The dataset holds data about three different iris species including some properties of each flower. \n",
    "Source: https://www.kaggle.com/datasets/uciml/iris "
   ]
  },
  {
   "cell_type": "code",
   "execution_count": 1,
   "metadata": {},
   "outputs": [
    {
     "data": {
      "text/html": [
       "<div>\n",
       "<style scoped>\n",
       "    .dataframe tbody tr th:only-of-type {\n",
       "        vertical-align: middle;\n",
       "    }\n",
       "\n",
       "    .dataframe tbody tr th {\n",
       "        vertical-align: top;\n",
       "    }\n",
       "\n",
       "    .dataframe thead th {\n",
       "        text-align: right;\n",
       "    }\n",
       "</style>\n",
       "<table border=\"1\" class=\"dataframe\">\n",
       "  <thead>\n",
       "    <tr style=\"text-align: right;\">\n",
       "      <th></th>\n",
       "      <th>Id</th>\n",
       "      <th>SepalLengthCm</th>\n",
       "      <th>SepalWidthCm</th>\n",
       "      <th>PetalLengthCm</th>\n",
       "      <th>PetalWidthCm</th>\n",
       "      <th>Species</th>\n",
       "    </tr>\n",
       "  </thead>\n",
       "  <tbody>\n",
       "    <tr>\n",
       "      <th>0</th>\n",
       "      <td>1</td>\n",
       "      <td>5.1</td>\n",
       "      <td>3.5</td>\n",
       "      <td>1.4</td>\n",
       "      <td>0.2</td>\n",
       "      <td>Iris-setosa</td>\n",
       "    </tr>\n",
       "    <tr>\n",
       "      <th>1</th>\n",
       "      <td>2</td>\n",
       "      <td>4.9</td>\n",
       "      <td>3.0</td>\n",
       "      <td>1.4</td>\n",
       "      <td>0.2</td>\n",
       "      <td>Iris-setosa</td>\n",
       "    </tr>\n",
       "    <tr>\n",
       "      <th>2</th>\n",
       "      <td>3</td>\n",
       "      <td>4.7</td>\n",
       "      <td>3.2</td>\n",
       "      <td>1.3</td>\n",
       "      <td>0.2</td>\n",
       "      <td>Iris-setosa</td>\n",
       "    </tr>\n",
       "    <tr>\n",
       "      <th>3</th>\n",
       "      <td>4</td>\n",
       "      <td>4.6</td>\n",
       "      <td>3.1</td>\n",
       "      <td>1.5</td>\n",
       "      <td>0.2</td>\n",
       "      <td>Iris-setosa</td>\n",
       "    </tr>\n",
       "    <tr>\n",
       "      <th>4</th>\n",
       "      <td>5</td>\n",
       "      <td>5.0</td>\n",
       "      <td>3.6</td>\n",
       "      <td>1.4</td>\n",
       "      <td>0.2</td>\n",
       "      <td>Iris-setosa</td>\n",
       "    </tr>\n",
       "  </tbody>\n",
       "</table>\n",
       "</div>"
      ],
      "text/plain": [
       "   Id  SepalLengthCm  SepalWidthCm  PetalLengthCm  PetalWidthCm      Species\n",
       "0   1            5.1           3.5            1.4           0.2  Iris-setosa\n",
       "1   2            4.9           3.0            1.4           0.2  Iris-setosa\n",
       "2   3            4.7           3.2            1.3           0.2  Iris-setosa\n",
       "3   4            4.6           3.1            1.5           0.2  Iris-setosa\n",
       "4   5            5.0           3.6            1.4           0.2  Iris-setosa"
      ]
     },
     "execution_count": 1,
     "metadata": {},
     "output_type": "execute_result"
    }
   ],
   "source": [
    "# importing pandas for data preprocession and csv handling - https://pandas.pydata.org/docs/ \n",
    "import pandas as pd\n",
    "\n",
    "# Note we will use the following acronyms in our variables: \n",
    "# df = data frame - commonly used for pandas data frames \n",
    "\n",
    "# loading our iris dataset into a pandas dataframe\n",
    "iris_df = pd.read_csv(\"data/iris_data.csv\")\n",
    "\n",
    "# printing out the the first 5 rows of our data and have a look \n",
    "iris_df.head()"
   ]
  },
  {
   "cell_type": "code",
   "execution_count": 2,
   "metadata": {},
   "outputs": [
    {
     "data": {
      "text/plain": [
       "(150, 6)"
      ]
     },
     "execution_count": 2,
     "metadata": {},
     "output_type": "execute_result"
    }
   ],
   "source": [
    "# print the shape of the df (rows, columns)\n",
    "iris_df.shape"
   ]
  },
  {
   "cell_type": "code",
   "execution_count": 3,
   "metadata": {},
   "outputs": [
    {
     "name": "stdout",
     "output_type": "stream",
     "text": [
      "<class 'pandas.core.frame.DataFrame'>\n",
      "RangeIndex: 150 entries, 0 to 149\n",
      "Data columns (total 6 columns):\n",
      " #   Column         Non-Null Count  Dtype  \n",
      "---  ------         --------------  -----  \n",
      " 0   Id             150 non-null    int64  \n",
      " 1   SepalLengthCm  150 non-null    float64\n",
      " 2   SepalWidthCm   150 non-null    float64\n",
      " 3   PetalLengthCm  150 non-null    float64\n",
      " 4   PetalWidthCm   150 non-null    float64\n",
      " 5   Species        150 non-null    object \n",
      "dtypes: float64(4), int64(1), object(1)\n",
      "memory usage: 7.2+ KB\n"
     ]
    }
   ],
   "source": [
    "# now let's look at the columns in more detail \n",
    "iris_df.info()"
   ]
  },
  {
   "cell_type": "code",
   "execution_count": 4,
   "metadata": {},
   "outputs": [
    {
     "data": {
      "text/plain": [
       "Iris-setosa        50\n",
       "Iris-versicolor    50\n",
       "Iris-virginica     50\n",
       "Name: Species, dtype: int64"
      ]
     },
     "execution_count": 4,
     "metadata": {},
     "output_type": "execute_result"
    }
   ],
   "source": [
    "# looking into how many samples we have per species\n",
    "iris_df['Species'].value_counts()"
   ]
  },
  {
   "cell_type": "code",
   "execution_count": 5,
   "metadata": {},
   "outputs": [
    {
     "data": {
      "text/html": [
       "<div>\n",
       "<style scoped>\n",
       "    .dataframe tbody tr th:only-of-type {\n",
       "        vertical-align: middle;\n",
       "    }\n",
       "\n",
       "    .dataframe tbody tr th {\n",
       "        vertical-align: top;\n",
       "    }\n",
       "\n",
       "    .dataframe thead th {\n",
       "        text-align: right;\n",
       "    }\n",
       "</style>\n",
       "<table border=\"1\" class=\"dataframe\">\n",
       "  <thead>\n",
       "    <tr style=\"text-align: right;\">\n",
       "      <th></th>\n",
       "      <th>Id</th>\n",
       "      <th>SepalLengthCm</th>\n",
       "      <th>SepalWidthCm</th>\n",
       "      <th>PetalLengthCm</th>\n",
       "      <th>PetalWidthCm</th>\n",
       "    </tr>\n",
       "  </thead>\n",
       "  <tbody>\n",
       "    <tr>\n",
       "      <th>count</th>\n",
       "      <td>150.000000</td>\n",
       "      <td>150.000000</td>\n",
       "      <td>150.000000</td>\n",
       "      <td>150.000000</td>\n",
       "      <td>150.000000</td>\n",
       "    </tr>\n",
       "    <tr>\n",
       "      <th>mean</th>\n",
       "      <td>75.500000</td>\n",
       "      <td>5.843333</td>\n",
       "      <td>3.054000</td>\n",
       "      <td>3.758667</td>\n",
       "      <td>1.198667</td>\n",
       "    </tr>\n",
       "    <tr>\n",
       "      <th>std</th>\n",
       "      <td>43.445368</td>\n",
       "      <td>0.828066</td>\n",
       "      <td>0.433594</td>\n",
       "      <td>1.764420</td>\n",
       "      <td>0.763161</td>\n",
       "    </tr>\n",
       "    <tr>\n",
       "      <th>min</th>\n",
       "      <td>1.000000</td>\n",
       "      <td>4.300000</td>\n",
       "      <td>2.000000</td>\n",
       "      <td>1.000000</td>\n",
       "      <td>0.100000</td>\n",
       "    </tr>\n",
       "    <tr>\n",
       "      <th>25%</th>\n",
       "      <td>38.250000</td>\n",
       "      <td>5.100000</td>\n",
       "      <td>2.800000</td>\n",
       "      <td>1.600000</td>\n",
       "      <td>0.300000</td>\n",
       "    </tr>\n",
       "    <tr>\n",
       "      <th>50%</th>\n",
       "      <td>75.500000</td>\n",
       "      <td>5.800000</td>\n",
       "      <td>3.000000</td>\n",
       "      <td>4.350000</td>\n",
       "      <td>1.300000</td>\n",
       "    </tr>\n",
       "    <tr>\n",
       "      <th>75%</th>\n",
       "      <td>112.750000</td>\n",
       "      <td>6.400000</td>\n",
       "      <td>3.300000</td>\n",
       "      <td>5.100000</td>\n",
       "      <td>1.800000</td>\n",
       "    </tr>\n",
       "    <tr>\n",
       "      <th>max</th>\n",
       "      <td>150.000000</td>\n",
       "      <td>7.900000</td>\n",
       "      <td>4.400000</td>\n",
       "      <td>6.900000</td>\n",
       "      <td>2.500000</td>\n",
       "    </tr>\n",
       "  </tbody>\n",
       "</table>\n",
       "</div>"
      ],
      "text/plain": [
       "               Id  SepalLengthCm  SepalWidthCm  PetalLengthCm  PetalWidthCm\n",
       "count  150.000000     150.000000    150.000000     150.000000    150.000000\n",
       "mean    75.500000       5.843333      3.054000       3.758667      1.198667\n",
       "std     43.445368       0.828066      0.433594       1.764420      0.763161\n",
       "min      1.000000       4.300000      2.000000       1.000000      0.100000\n",
       "25%     38.250000       5.100000      2.800000       1.600000      0.300000\n",
       "50%     75.500000       5.800000      3.000000       4.350000      1.300000\n",
       "75%    112.750000       6.400000      3.300000       5.100000      1.800000\n",
       "max    150.000000       7.900000      4.400000       6.900000      2.500000"
      ]
     },
     "execution_count": 5,
     "metadata": {},
     "output_type": "execute_result"
    }
   ],
   "source": [
    "# generating general statistics about columns \n",
    "iris_df.describe()"
   ]
  },
  {
   "cell_type": "code",
   "execution_count": 6,
   "metadata": {},
   "outputs": [
    {
     "name": "stdout",
     "output_type": "stream",
     "text": [
      "<class 'pandas.core.frame.DataFrame'>\n",
      "RangeIndex: 150 entries, 0 to 149\n",
      "Data columns (total 6 columns):\n",
      " #   Column         Non-Null Count  Dtype   \n",
      "---  ------         --------------  -----   \n",
      " 0   Id             150 non-null    int64   \n",
      " 1   SepalLengthCm  150 non-null    float64 \n",
      " 2   SepalWidthCm   150 non-null    float64 \n",
      " 3   PetalLengthCm  150 non-null    float64 \n",
      " 4   PetalWidthCm   150 non-null    float64 \n",
      " 5   Species        150 non-null    category\n",
      "dtypes: category(1), float64(4), int64(1)\n",
      "memory usage: 6.3 KB\n"
     ]
    }
   ],
   "source": [
    "# changing the data type of species to category\n",
    "iris_df[\"Species\"] = iris_df.Species.astype(\"category\")\n",
    "iris_df.info()"
   ]
  },
  {
   "cell_type": "code",
   "execution_count": 7,
   "metadata": {},
   "outputs": [
    {
     "data": {
      "image/png": "[encoded data removed]",
      "text/plain": [
       "<Figure size 432x288 with 1 Axes>"
      ]
     },
     "metadata": {
      "needs_background": "light"
     },
     "output_type": "display_data"
    }
   ],
   "source": [
    "# import matplotlib\n",
    "import matplotlib.pyplot as plt \n",
    "\n",
    "fig, ax = plt.subplots()\n",
    "\n",
    "# creating subplots per species \n",
    "for cat in iris_df['Species'].cat.categories: \n",
    "    ax.scatter(x=iris_df['SepalLengthCm'][iris_df.Species==cat], y=iris_df['SepalWidthCm'][iris_df.Species==cat], label=cat)\n",
    "\n",
    "# adding labels and legend\n",
    "plt.xlabel('SepalLengthCm')\n",
    "plt.ylabel('SepalWidthCm')\n",
    "plt.legend()\n",
    "# plotting SepalLengthCm vs SepalWidthCm as scatterplot per species \n",
    "plt.show()"
   ]
  },
  {
   "cell_type": "code",
   "execution_count": 8,
   "metadata": {},
   "outputs": [
    {
     "data": {
      "image/png": "[encoded data removed]",
      "text/plain": [
       "<Figure size 432x288 with 1 Axes>"
      ]
     },
     "metadata": {
      "needs_background": "light"
     },
     "output_type": "display_data"
    }
   ],
   "source": [
    "fig, ax = plt.subplots()\n",
    "\n",
    "# creating subplots per species \n",
    "for cat in iris_df['Species'].cat.categories: \n",
    "    ax.scatter(x=iris_df['PetalLengthCm'][iris_df.Species==cat], y=iris_df['PetalWidthCm'][iris_df.Species==cat], label=cat)\n",
    "\n",
    "# adding labels and legend\n",
    "plt.xlabel('PetalLengthCm')\n",
    "plt.ylabel('PetalWidthCm')\n",
    "plt.legend()\n",
    "# plotting PetalLengthCm vs PetalWidthCm as scatterplot per species \n",
    "plt.show()\n",
    "\n",
    "# Note these features seem pretty descriptive to classify the flowers"
   ]
  },
  {
   "cell_type": "code",
   "execution_count": 9,
   "metadata": {},
   "outputs": [
    {
     "data": {
      "image/png": "[encoded data removed]",
      "text/plain": [
       "<Figure size 720x720 with 4 Axes>"
      ]
     },
     "metadata": {
      "needs_background": "light"
     },
     "output_type": "display_data"
    }
   ],
   "source": [
    "# printing the histograms of the numeric properties\n",
    "iris_df.drop(columns='Id').hist(figsize=(10,10))\n",
    "plt.show()"
   ]
  },
  {
   "cell_type": "markdown",
   "metadata": {},
   "source": [
    "## Data Pre-Processing\n",
    "In this step you would do all data pre-processing necassary. That can include a wide range of things ranging from feature selection to feature engineering. In our case we only want to drop the ``Id`` column as it is not an actual property of the flowers. Further, we will split our whole dataset into a training and test dataset. The training dataset will be used to train our model and the test dataset will be used in the evaluation of the performance of our model. "
   ]
  },
  {
   "cell_type": "code",
   "execution_count": 10,
   "metadata": {},
   "outputs": [
    {
     "data": {
      "text/plain": [
       "Index(['Id', 'SepalLengthCm', 'SepalWidthCm', 'PetalLengthCm', 'PetalWidthCm',\n",
       "       'Species'],\n",
       "      dtype='object')"
      ]
     },
     "execution_count": 10,
     "metadata": {},
     "output_type": "execute_result"
    }
   ],
   "source": [
    "# remember our current columns \n",
    "iris_df.columns"
   ]
  },
  {
   "cell_type": "code",
   "execution_count": 11,
   "metadata": {},
   "outputs": [
    {
     "data": {
      "text/plain": [
       "Index(['SepalLengthCm', 'SepalWidthCm', 'PetalLengthCm', 'PetalWidthCm',\n",
       "       'Species'],\n",
       "      dtype='object')"
      ]
     },
     "execution_count": 11,
     "metadata": {},
     "output_type": "execute_result"
    }
   ],
   "source": [
    "# now dropping the id column as that is not an actual property of the class\n",
    "iris_df = iris_df.drop(columns='Id')\n",
    "iris_df.columns"
   ]
  },
  {
   "cell_type": "code",
   "execution_count": 12,
   "metadata": {},
   "outputs": [
    {
     "name": "stdout",
     "output_type": "stream",
     "text": [
      "train shape=(105, 5) and test shape=(45, 5)\n"
     ]
    }
   ],
   "source": [
    "# import sklearns capability to split the dataset into train and test\n",
    "from sklearn.model_selection import train_test_split\n",
    "\n",
    "# splitting the iris dataset into train (70%) and test (30%)\n",
    "train_df, test_df = train_test_split(iris_df, test_size=0.3)\n",
    "print(f'train shape={train_df.shape} and test shape={test_df.shape}')"
   ]
  },
  {
   "cell_type": "code",
   "execution_count": 13,
   "metadata": {},
   "outputs": [
    {
     "name": "stdout",
     "output_type": "stream",
     "text": [
      "train df features: (105, 4)\n",
      "   SepalLengthCm  SepalWidthCm  PetalLengthCm  PetalWidthCm\n",
      "5            5.4           3.9            1.7           0.4\n",
      "3            4.6           3.1            1.5           0.2\n",
      "\n",
      "train df labels: (105,)\n",
      "5    Iris-setosa\n",
      "3    Iris-setosa\n",
      "Name: Species, dtype: category\n",
      "Categories (3, object): ['Iris-setosa', 'Iris-versicolor', 'Iris-virginica']\n",
      "\n",
      "test df features: (45, 4)\n",
      "    SepalLengthCm  SepalWidthCm  PetalLengthCm  PetalWidthCm\n",
      "28            5.2           3.4            1.4           0.2\n",
      "34            4.9           3.1            1.5           0.1\n",
      "\n",
      "test df labels: (45,)\n",
      "28    Iris-setosa\n",
      "34    Iris-setosa\n",
      "Name: Species, dtype: category\n",
      "Categories (3, object): ['Iris-setosa', 'Iris-versicolor', 'Iris-virginica']\n"
     ]
    }
   ],
   "source": [
    "# seperate features from labels for the train and test dataset \n",
    "train_df_features = train_df.drop(columns='Species')\n",
    "train_df_labels = train_df.Species\n",
    "print(f'train df features: {train_df_features.shape}')\n",
    "print(train_df_features.head(2))\n",
    "print(f'\\ntrain df labels: {train_df_labels.shape}')\n",
    "print(train_df_labels.head(2))\n",
    "\n",
    "# seperate features from labels for the train and test dataset \n",
    "test_df_features = test_df.drop(columns='Species')\n",
    "test_df_labels = test_df.Species\n",
    "print(f'\\ntest df features: {test_df_features.shape}')\n",
    "print(test_df_features.head(2))\n",
    "print(f'\\ntest df labels: {test_df_labels.shape}')\n",
    "print(test_df_labels.head(2))"
   ]
  },
  {
   "cell_type": "markdown",
   "metadata": {},
   "source": [
    "## Model Training and Evaluation \n",
    "In the model training step we finally train a machine learning model. Yay! Deciding on which algorithm to use can sometimes be a little tricky and usually you go through iterations and try different ones. In the following we will train three different models and compare them: LogisitcRegression, a DecisionTree an K-Nearest Neighbour. \n",
    "The steps are the same fore all models: \n",
    "1. Train the model with the training dataset using the ``.fit()``-method \n",
    "2. [Optional] Predict the outcome of the trained model with the test dataset using the ``.predict()``-method \n",
    "3. Evaluate the performance of the model by comparing the predicted outcome with the actual outcome \n",
    "\n",
    "Note: we will use accuracy as the evaluation metric. However, there are many different metrics you can evalute a model against and might be better suited for the problem at hand. \n",
    "\n",
    "### Logistic Regression\n",
    "In logistic regression the probabilities of class membership are modeled using a logistic function. \n",
    "More Info can be found here: https://scikit-learn.org/stable/modules/linear_model.html#logistic-regression "
   ]
  },
  {
   "cell_type": "code",
   "execution_count": 14,
   "metadata": {},
   "outputs": [
    {
     "name": "stdout",
     "output_type": "stream",
     "text": [
      "Logistic Regression Accuracy: 0.9555555555555556\n"
     ]
    },
    {
     "data": {
      "text/html": [
       "<div>\n",
       "<style scoped>\n",
       "    .dataframe tbody tr th:only-of-type {\n",
       "        vertical-align: middle;\n",
       "    }\n",
       "\n",
       "    .dataframe tbody tr th {\n",
       "        vertical-align: top;\n",
       "    }\n",
       "\n",
       "    .dataframe thead th {\n",
       "        text-align: right;\n",
       "    }\n",
       "</style>\n",
       "<table border=\"1\" class=\"dataframe\">\n",
       "  <thead>\n",
       "    <tr style=\"text-align: right;\">\n",
       "      <th></th>\n",
       "      <th>SepalLengthCm</th>\n",
       "      <th>SepalWidthCm</th>\n",
       "      <th>PetalLengthCm</th>\n",
       "      <th>PetalWidthCm</th>\n",
       "      <th>Species</th>\n",
       "      <th>prediction</th>\n",
       "    </tr>\n",
       "  </thead>\n",
       "  <tbody>\n",
       "    <tr>\n",
       "      <th>28</th>\n",
       "      <td>5.2</td>\n",
       "      <td>3.4</td>\n",
       "      <td>1.4</td>\n",
       "      <td>0.2</td>\n",
       "      <td>Iris-setosa</td>\n",
       "      <td>Iris-setosa</td>\n",
       "    </tr>\n",
       "    <tr>\n",
       "      <th>34</th>\n",
       "      <td>4.9</td>\n",
       "      <td>3.1</td>\n",
       "      <td>1.5</td>\n",
       "      <td>0.1</td>\n",
       "      <td>Iris-setosa</td>\n",
       "      <td>Iris-setosa</td>\n",
       "    </tr>\n",
       "    <tr>\n",
       "      <th>31</th>\n",
       "      <td>5.4</td>\n",
       "      <td>3.4</td>\n",
       "      <td>1.5</td>\n",
       "      <td>0.4</td>\n",
       "      <td>Iris-setosa</td>\n",
       "      <td>Iris-setosa</td>\n",
       "    </tr>\n",
       "    <tr>\n",
       "      <th>106</th>\n",
       "      <td>4.9</td>\n",
       "      <td>2.5</td>\n",
       "      <td>4.5</td>\n",
       "      <td>1.7</td>\n",
       "      <td>Iris-virginica</td>\n",
       "      <td>Iris-versicolor</td>\n",
       "    </tr>\n",
       "    <tr>\n",
       "      <th>50</th>\n",
       "      <td>7.0</td>\n",
       "      <td>3.2</td>\n",
       "      <td>4.7</td>\n",
       "      <td>1.4</td>\n",
       "      <td>Iris-versicolor</td>\n",
       "      <td>Iris-versicolor</td>\n",
       "    </tr>\n",
       "  </tbody>\n",
       "</table>\n",
       "</div>"
      ],
      "text/plain": [
       "     SepalLengthCm  SepalWidthCm  PetalLengthCm  PetalWidthCm  \\\n",
       "28             5.2           3.4            1.4           0.2   \n",
       "34             4.9           3.1            1.5           0.1   \n",
       "31             5.4           3.4            1.5           0.4   \n",
       "106            4.9           2.5            4.5           1.7   \n",
       "50             7.0           3.2            4.7           1.4   \n",
       "\n",
       "             Species       prediction  \n",
       "28       Iris-setosa      Iris-setosa  \n",
       "34       Iris-setosa      Iris-setosa  \n",
       "31       Iris-setosa      Iris-setosa  \n",
       "106   Iris-virginica  Iris-versicolor  \n",
       "50   Iris-versicolor  Iris-versicolor  "
      ]
     },
     "execution_count": 14,
     "metadata": {},
     "output_type": "execute_result"
    }
   ],
   "source": [
    "# importing logistic regression from sklearn \n",
    "from sklearn.linear_model import LogisticRegression\n",
    "\n",
    "# Note we will use the following acronyms in our variables: \n",
    "# clf = classifier\n",
    "# lr = logisitc regression \n",
    "# dt = decision tree \n",
    "# knn = k-nearest neighbour\n",
    "# pred = prediction \n",
    "\n",
    "# creating a logistic regression model \n",
    "clf_lr = LogisticRegression(max_iter=200)\n",
    "# training the model on our train dataset \n",
    "clf_lr.fit(train_df_features, train_df_labels)\n",
    "# printing out the mean accuracy score\n",
    "print(f'Logistic Regression Accuracy: {clf_lr.score(test_df_features, test_df_labels)}')\n",
    "# predicting the output for our test dataset \n",
    "pred_lr = clf_lr.predict(test_df_features)\n",
    "# printing the results of the prediction and actual\n",
    "test_df.assign(prediction=pred_lr).head()"
   ]
  },
  {
   "cell_type": "code",
   "execution_count": 15,
   "metadata": {},
   "outputs": [
    {
     "data": {
      "text/html": [
       "<div>\n",
       "<style scoped>\n",
       "    .dataframe tbody tr th:only-of-type {\n",
       "        vertical-align: middle;\n",
       "    }\n",
       "\n",
       "    .dataframe tbody tr th {\n",
       "        vertical-align: top;\n",
       "    }\n",
       "\n",
       "    .dataframe thead th {\n",
       "        text-align: right;\n",
       "    }\n",
       "</style>\n",
       "<table border=\"1\" class=\"dataframe\">\n",
       "  <thead>\n",
       "    <tr style=\"text-align: right;\">\n",
       "      <th></th>\n",
       "      <th>Iris-setosa</th>\n",
       "      <th>Iris-versicolor</th>\n",
       "      <th>Iris-virginica</th>\n",
       "      <th>prediction</th>\n",
       "    </tr>\n",
       "  </thead>\n",
       "  <tbody>\n",
       "    <tr>\n",
       "      <th>0</th>\n",
       "      <td>0.97</td>\n",
       "      <td>0.03</td>\n",
       "      <td>0.00</td>\n",
       "      <td>Iris-setosa</td>\n",
       "    </tr>\n",
       "    <tr>\n",
       "      <th>1</th>\n",
       "      <td>0.96</td>\n",
       "      <td>0.04</td>\n",
       "      <td>0.00</td>\n",
       "      <td>Iris-setosa</td>\n",
       "    </tr>\n",
       "    <tr>\n",
       "      <th>2</th>\n",
       "      <td>0.96</td>\n",
       "      <td>0.04</td>\n",
       "      <td>0.00</td>\n",
       "      <td>Iris-setosa</td>\n",
       "    </tr>\n",
       "    <tr>\n",
       "      <th>3</th>\n",
       "      <td>0.01</td>\n",
       "      <td>0.73</td>\n",
       "      <td>0.26</td>\n",
       "      <td>Iris-versicolor</td>\n",
       "    </tr>\n",
       "    <tr>\n",
       "      <th>4</th>\n",
       "      <td>0.00</td>\n",
       "      <td>0.77</td>\n",
       "      <td>0.23</td>\n",
       "      <td>Iris-versicolor</td>\n",
       "    </tr>\n",
       "  </tbody>\n",
       "</table>\n",
       "</div>"
      ],
      "text/plain": [
       "  Iris-setosa Iris-versicolor Iris-virginica       prediction\n",
       "0        0.97            0.03           0.00      Iris-setosa\n",
       "1        0.96            0.04           0.00      Iris-setosa\n",
       "2        0.96            0.04           0.00      Iris-setosa\n",
       "3        0.01            0.73           0.26  Iris-versicolor\n",
       "4        0.00            0.77           0.23  Iris-versicolor"
      ]
     },
     "execution_count": 15,
     "metadata": {},
     "output_type": "execute_result"
    }
   ],
   "source": [
    "# some classification models in sklearn can also return the probability of the class prediction \n",
    "pred_lr_probabilities = clf_lr.predict_proba(test_df_features)\n",
    "pred_lr_probabilities_df = pd.DataFrame(pred_lr_probabilities, columns=iris_df['Species'].cat.categories).applymap(\"{0:.2f}\".format)\n",
    "pred_lr_probabilities_df.assign(prediction=pred_lr).head()"
   ]
  },
  {
   "cell_type": "markdown",
   "metadata": {},
   "source": [
    "### Decision Tree \n",
    "In a decision tree classification classification trees are created to determine class membership. More info can be found here: https://en.wikipedia.org/wiki/Decision_tree_learning "
   ]
  },
  {
   "cell_type": "code",
   "execution_count": 16,
   "metadata": {},
   "outputs": [
    {
     "name": "stdout",
     "output_type": "stream",
     "text": [
      "Decision Tree Accuracy: 1.0\n"
     ]
    }
   ],
   "source": [
    "# importing decision tree classifier from sklearn \n",
    "from sklearn.tree import DecisionTreeClassifier\n",
    "\n",
    "clf_dt = DecisionTreeClassifier()\n",
    "clf_dt.fit(train_df_features, train_df_labels)\n",
    "print(f'Decision Tree Accuracy: {clf_dt.score(test_df_features, test_df_labels)}')"
   ]
  },
  {
   "cell_type": "markdown",
   "metadata": {},
   "source": [
    "### K-Nearest Neighbour \n",
    "In the k-nearest neighbour algorithm the class is identified by the most commmon class of its k-nearest neighbours. \n",
    "More info can be found here: https://en.wikipedia.org/wiki/K-nearest_neighbors_algorithm "
   ]
  },
  {
   "cell_type": "code",
   "execution_count": 17,
   "metadata": {},
   "outputs": [
    {
     "name": "stdout",
     "output_type": "stream",
     "text": [
      "K-Nearest Neighbour (K=3) Accuracy: 0.9555555555555556\n"
     ]
    }
   ],
   "source": [
    "# importing nearest neighbour classifier from sklearn \n",
    "from sklearn.neighbors import KNeighborsClassifier\n",
    "\n",
    "# using the closest 3 neighbours for evaluating the class \n",
    "clf_knn = KNeighborsClassifier(n_neighbors=3)\n",
    "clf_knn.fit(train_df_features, train_df_labels)\n",
    "print(f'K-Nearest Neighbour (K=3) Accuracy: {clf_knn.score(test_df_features, test_df_labels)}')"
   ]
  },
  {
   "cell_type": "markdown",
   "metadata": {},
   "source": [
    "### Hyper parameter testing \n",
    "It is very common to try different input parameters into your models. This is also referred to as hyper parameter testing. Let's try different parameters for the k nearest neighbour model. "
   ]
  },
  {
   "cell_type": "code",
   "execution_count": 18,
   "metadata": {},
   "outputs": [
    {
     "data": {
      "image/png": "[encoded data removed]",
      "text/plain": [
       "<Figure size 432x288 with 1 Axes>"
      ]
     },
     "metadata": {
      "needs_background": "light"
     },
     "output_type": "display_data"
    }
   ],
   "source": [
    "accuracy_values = {}\n",
    "\n",
    "# gathering mean accuracy scores with different values for the nearest neighbours to use \n",
    "for x in range(1, test_df.shape[0]+1, 1): \n",
    "    clf_knn_x =  KNeighborsClassifier(n_neighbors=x)\n",
    "    clf_knn_x.fit(train_df_features, train_df_labels)\n",
    "    accuracy_values[x] = clf_knn_x.score(test_df_features, test_df_labels)\n",
    "\n",
    "# plotting different accruacy values vs selected nearest neighbours \n",
    "plt.plot(accuracy_values.keys(), accuracy_values.values())\n",
    "plt.show()"
   ]
  },
  {
   "cell_type": "markdown",
   "metadata": {},
   "source": [
    "## Model Inference \n",
    "Once we selected our best performing model based on the metric we chose we can now use it to predict outcomes on new unlabelled data. That means we are gonna take the trained model and use the ``.predict()``-method to get the predictions. \n",
    "\n",
    "As we don't have any new data in this example - so let's just shuffle the original iris dataset and use that. "
   ]
  },
  {
   "cell_type": "code",
   "execution_count": 19,
   "metadata": {},
   "outputs": [
    {
     "data": {
      "text/html": [
       "<div>\n",
       "<style scoped>\n",
       "    .dataframe tbody tr th:only-of-type {\n",
       "        vertical-align: middle;\n",
       "    }\n",
       "\n",
       "    .dataframe tbody tr th {\n",
       "        vertical-align: top;\n",
       "    }\n",
       "\n",
       "    .dataframe thead th {\n",
       "        text-align: right;\n",
       "    }\n",
       "</style>\n",
       "<table border=\"1\" class=\"dataframe\">\n",
       "  <thead>\n",
       "    <tr style=\"text-align: right;\">\n",
       "      <th></th>\n",
       "      <th>SepalLengthCm</th>\n",
       "      <th>SepalWidthCm</th>\n",
       "      <th>PetalLengthCm</th>\n",
       "      <th>PetalWidthCm</th>\n",
       "      <th>Species</th>\n",
       "      <th>prediction</th>\n",
       "    </tr>\n",
       "  </thead>\n",
       "  <tbody>\n",
       "    <tr>\n",
       "      <th>88</th>\n",
       "      <td>5.6</td>\n",
       "      <td>3.0</td>\n",
       "      <td>4.1</td>\n",
       "      <td>1.3</td>\n",
       "      <td>Iris-versicolor</td>\n",
       "      <td>Iris-versicolor</td>\n",
       "    </tr>\n",
       "    <tr>\n",
       "      <th>147</th>\n",
       "      <td>6.5</td>\n",
       "      <td>3.0</td>\n",
       "      <td>5.2</td>\n",
       "      <td>2.0</td>\n",
       "      <td>Iris-virginica</td>\n",
       "      <td>Iris-virginica</td>\n",
       "    </tr>\n",
       "    <tr>\n",
       "      <th>125</th>\n",
       "      <td>7.2</td>\n",
       "      <td>3.2</td>\n",
       "      <td>6.0</td>\n",
       "      <td>1.8</td>\n",
       "      <td>Iris-virginica</td>\n",
       "      <td>Iris-virginica</td>\n",
       "    </tr>\n",
       "    <tr>\n",
       "      <th>76</th>\n",
       "      <td>6.8</td>\n",
       "      <td>2.8</td>\n",
       "      <td>4.8</td>\n",
       "      <td>1.4</td>\n",
       "      <td>Iris-versicolor</td>\n",
       "      <td>Iris-versicolor</td>\n",
       "    </tr>\n",
       "    <tr>\n",
       "      <th>130</th>\n",
       "      <td>7.4</td>\n",
       "      <td>2.8</td>\n",
       "      <td>6.1</td>\n",
       "      <td>1.9</td>\n",
       "      <td>Iris-virginica</td>\n",
       "      <td>Iris-virginica</td>\n",
       "    </tr>\n",
       "    <tr>\n",
       "      <th>86</th>\n",
       "      <td>6.7</td>\n",
       "      <td>3.1</td>\n",
       "      <td>4.7</td>\n",
       "      <td>1.5</td>\n",
       "      <td>Iris-versicolor</td>\n",
       "      <td>Iris-versicolor</td>\n",
       "    </tr>\n",
       "    <tr>\n",
       "      <th>19</th>\n",
       "      <td>5.1</td>\n",
       "      <td>3.8</td>\n",
       "      <td>1.5</td>\n",
       "      <td>0.3</td>\n",
       "      <td>Iris-setosa</td>\n",
       "      <td>Iris-setosa</td>\n",
       "    </tr>\n",
       "    <tr>\n",
       "      <th>33</th>\n",
       "      <td>5.5</td>\n",
       "      <td>4.2</td>\n",
       "      <td>1.4</td>\n",
       "      <td>0.2</td>\n",
       "      <td>Iris-setosa</td>\n",
       "      <td>Iris-setosa</td>\n",
       "    </tr>\n",
       "    <tr>\n",
       "      <th>30</th>\n",
       "      <td>4.8</td>\n",
       "      <td>3.1</td>\n",
       "      <td>1.6</td>\n",
       "      <td>0.2</td>\n",
       "      <td>Iris-setosa</td>\n",
       "      <td>Iris-setosa</td>\n",
       "    </tr>\n",
       "    <tr>\n",
       "      <th>31</th>\n",
       "      <td>5.4</td>\n",
       "      <td>3.4</td>\n",
       "      <td>1.5</td>\n",
       "      <td>0.4</td>\n",
       "      <td>Iris-setosa</td>\n",
       "      <td>Iris-setosa</td>\n",
       "    </tr>\n",
       "  </tbody>\n",
       "</table>\n",
       "</div>"
      ],
      "text/plain": [
       "     SepalLengthCm  SepalWidthCm  PetalLengthCm  PetalWidthCm  \\\n",
       "88             5.6           3.0            4.1           1.3   \n",
       "147            6.5           3.0            5.2           2.0   \n",
       "125            7.2           3.2            6.0           1.8   \n",
       "76             6.8           2.8            4.8           1.4   \n",
       "130            7.4           2.8            6.1           1.9   \n",
       "86             6.7           3.1            4.7           1.5   \n",
       "19             5.1           3.8            1.5           0.3   \n",
       "33             5.5           4.2            1.4           0.2   \n",
       "30             4.8           3.1            1.6           0.2   \n",
       "31             5.4           3.4            1.5           0.4   \n",
       "\n",
       "             Species       prediction  \n",
       "88   Iris-versicolor  Iris-versicolor  \n",
       "147   Iris-virginica   Iris-virginica  \n",
       "125   Iris-virginica   Iris-virginica  \n",
       "76   Iris-versicolor  Iris-versicolor  \n",
       "130   Iris-virginica   Iris-virginica  \n",
       "86   Iris-versicolor  Iris-versicolor  \n",
       "19       Iris-setosa      Iris-setosa  \n",
       "33       Iris-setosa      Iris-setosa  \n",
       "30       Iris-setosa      Iris-setosa  \n",
       "31       Iris-setosa      Iris-setosa  "
      ]
     },
     "execution_count": 19,
     "metadata": {},
     "output_type": "execute_result"
    }
   ],
   "source": [
    "shuffled_iris_df = iris_df.sample(frac=1)\n",
    "inference = clf_knn.predict(shuffled_iris_df.drop(['Species'], axis=1))\n",
    "shuffled_iris_df.assign(prediction=inference).head(10)"
   ]
  }
 ],
 "metadata": {
  "kernelspec": {
   "display_name": "Python 3.10.2 64-bit",
   "language": "python",
   "name": "python3"
  },
  "language_info": {
   "codemirror_mode": {
    "name": "ipython",
    "version": 3
   },
   "file_extension": ".py",
   "mimetype": "text/x-python",
   "name": "python",
   "nbconvert_exporter": "python",
   "pygments_lexer": "ipython3",
   "version": "3.10.2"
  },
  "orig_nbformat": 4,
  "vscode": {
   "interpreter": {
    "hash": "0fc7f0093da0f2eef5f58cf6dd4ba1059067f3d5f3bb10588778bad08c33fb55"
   }
  }
 },
 "nbformat": 4,
 "nbformat_minor": 2
}
